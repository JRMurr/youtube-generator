{
 "cells": [
  {
   "cell_type": "code",
   "execution_count": 1,
   "metadata": {},
   "outputs": [
    {
     "name": "stdout",
     "output_type": "stream",
     "text": [
      "/Users/johnmurray/personal/python/youtube-generator/src/data\n"
     ]
    }
   ],
   "source": [
    "cd ../src/data/"
   ]
  },
  {
   "cell_type": "code",
   "execution_count": 2,
   "metadata": {},
   "outputs": [],
   "source": [
    "from youtube_api_setup import get_authenticated_service\n",
    "youtube = get_authenticated_service()"
   ]
  },
  {
   "cell_type": "markdown",
   "metadata": {},
   "source": [
    "Testing channel stuff"
   ]
  },
  {
   "cell_type": "code",
   "execution_count": 39,
   "metadata": {},
   "outputs": [],
   "source": [
    "channel_id = 'h3h3Productions'"
   ]
  },
  {
   "cell_type": "code",
   "execution_count": 44,
   "metadata": {},
   "outputs": [
    {
     "data": {
      "text/plain": [
       "{'items': [{'id': 'UCDWIvJwLJsE4LG1Atne2blQ',\n",
       "   'snippet': {'title': 'h3h3Productions',\n",
       "    'description': 'We make comedy videos.'},\n",
       "   'contentDetails': {'relatedPlaylists': {'uploads': 'UUDWIvJwLJsE4LG1Atne2blQ'}},\n",
       "   'statistics': {'viewCount': '1158456725',\n",
       "    'subscriberCount': '6051825',\n",
       "    'videoCount': '300'}}]}"
      ]
     },
     "execution_count": 44,
     "metadata": {},
     "output_type": "execute_result"
    }
   ],
   "source": [
    "fields = ['items/id','items/contentDetails/relatedPlaylists/uploads',\n",
    "         'items/snippet/title', 'items/snippet/description',\n",
    "         'items/statistics/viewCount', 'items/statistics/subscriberCount', 'items/statistics/videoCount']\n",
    "res = youtube.channels().list(\n",
    "    forUsername=channel_id,\n",
    "    part='id,snippet,contentDetails,statistics',\n",
    "    fields=','.join(fields)\n",
    ").execute()\n",
    "res"
   ]
  },
  {
   "cell_type": "code",
   "execution_count": 18,
   "metadata": {},
   "outputs": [
    {
     "data": {
      "text/plain": [
       "'UUDWIvJwLJsE4LG1Atne2blQ'"
      ]
     },
     "execution_count": 18,
     "metadata": {},
     "output_type": "execute_result"
    }
   ],
   "source": [
    "uploadsPlaylist = res['items'][0]['contentDetails']['relatedPlaylists']['uploads']\n",
    "uploadsPlaylist"
   ]
  },
  {
   "cell_type": "code",
   "execution_count": 28,
   "metadata": {
    "scrolled": false
   },
   "outputs": [
    {
     "data": {
      "text/plain": [
       "{'items': [{'contentDetails': {'videoId': 'e2SUGfXVy4A'}},\n",
       "  {'contentDetails': {'videoId': 'wS8a5as4d-I'}},\n",
       "  {'contentDetails': {'videoId': 'leeXT7b31MM'}},\n",
       "  {'contentDetails': {'videoId': 'JN7qaeiRq8U'}},\n",
       "  {'contentDetails': {'videoId': 'JfsxLhPn-oA'}}]}"
      ]
     },
     "execution_count": 28,
     "metadata": {},
     "output_type": "execute_result"
    }
   ],
   "source": [
    "uploads = youtube.playlistItems().list(\n",
    "    part='contentDetails',\n",
    "    playlistId=uploadsPlaylist,\n",
    "    fields='items/contentDetails/videoId'\n",
    ").execute()\n",
    "uploads"
   ]
  },
  {
   "cell_type": "code",
   "execution_count": 25,
   "metadata": {},
   "outputs": [
    {
     "data": {
      "text/plain": [
       "'e2SUGfXVy4A,wS8a5as4d-I,leeXT7b31MM,JN7qaeiRq8U,JfsxLhPn-oA'"
      ]
     },
     "execution_count": 25,
     "metadata": {},
     "output_type": "execute_result"
    }
   ],
   "source": [
    "vidIDs = [item['contentDetails']['videoId'] for item in uploads['items']]\n",
    "vidIDs = ','.join(vidIDs)\n",
    "vidIDs"
   ]
  },
  {
   "cell_type": "code",
   "execution_count": 27,
   "metadata": {
    "scrolled": false
   },
   "outputs": [
    {
     "data": {
      "text/plain": [
       "{'kind': 'youtube#videoListResponse',\n",
       " 'etag': '\"XI7nbFXulYBIpL0ayR_gDh3eu1k/lyXlMk1dqWqR8uMkUgK3pLa7AS0\"',\n",
       " 'pageInfo': {'totalResults': 5, 'resultsPerPage': 5},\n",
       " 'items': [{'kind': 'youtube#video',\n",
       "   'etag': '\"XI7nbFXulYBIpL0ayR_gDh3eu1k/yPJkMrJR1kLmfUbhtWD0d7iC1t8\"',\n",
       "   'id': 'e2SUGfXVy4A',\n",
       "   'snippet': {'publishedAt': '2018-10-11T20:36:11.000Z',\n",
       "    'channelId': 'UCDWIvJwLJsE4LG1Atne2blQ',\n",
       "    'title': 'I Catfished My Kid On TLC',\n",
       "    'description': 'TLC steps it up to a new level with a TV show based entirely off of one Coby Persin video. We worked hard and long on this video and we hope you enjoy it! -E&H',\n",
       "    'thumbnails': {'default': {'url': 'https://i.ytimg.com/vi/e2SUGfXVy4A/default.jpg',\n",
       "      'width': 120,\n",
       "      'height': 90},\n",
       "     'medium': {'url': 'https://i.ytimg.com/vi/e2SUGfXVy4A/mqdefault.jpg',\n",
       "      'width': 320,\n",
       "      'height': 180},\n",
       "     'high': {'url': 'https://i.ytimg.com/vi/e2SUGfXVy4A/hqdefault.jpg',\n",
       "      'width': 480,\n",
       "      'height': 360},\n",
       "     'standard': {'url': 'https://i.ytimg.com/vi/e2SUGfXVy4A/sddefault.jpg',\n",
       "      'width': 640,\n",
       "      'height': 480},\n",
       "     'maxres': {'url': 'https://i.ytimg.com/vi/e2SUGfXVy4A/maxresdefault.jpg',\n",
       "      'width': 1280,\n",
       "      'height': 720}},\n",
       "    'channelTitle': 'h3h3Productions',\n",
       "    'tags': ['i catfished my kid',\n",
       "     'catfish',\n",
       "     'catfished',\n",
       "     'tlc',\n",
       "     'the learning channel',\n",
       "     'h3h3',\n",
       "     'h3h3productions',\n",
       "     'ethan klein',\n",
       "     'h3'],\n",
       "    'categoryId': '24',\n",
       "    'liveBroadcastContent': 'none',\n",
       "    'localized': {'title': 'I Catfished My Kid On TLC',\n",
       "     'description': 'TLC steps it up to a new level with a TV show based entirely off of one Coby Persin video. We worked hard and long on this video and we hope you enjoy it! -E&H'},\n",
       "    'defaultAudioLanguage': 'en'},\n",
       "   'statistics': {'viewCount': '4076354',\n",
       "    'likeCount': '365031',\n",
       "    'dislikeCount': '6249',\n",
       "    'favoriteCount': '0',\n",
       "    'commentCount': '45958'}},\n",
       "  {'kind': 'youtube#video',\n",
       "   'etag': '\"XI7nbFXulYBIpL0ayR_gDh3eu1k/IvTHxxGbe5D1vxLv171PLDXrOc0\"',\n",
       "   'id': 'wS8a5as4d-I',\n",
       "   'snippet': {'publishedAt': '2018-09-27T18:27:28.000Z',\n",
       "    'channelId': 'UCDWIvJwLJsE4LG1Atne2blQ',\n",
       "    'title': 'The Revolutionary A.I. Vape',\n",
       "    'description': 'Today we have the pleasure of testing what may be humanities greatest technological advancement since the invention of the personal computer. We hope you enjoy the video! Thank you for watching! -E&H',\n",
       "    'thumbnails': {'default': {'url': 'https://i.ytimg.com/vi/wS8a5as4d-I/default.jpg',\n",
       "      'width': 120,\n",
       "      'height': 90},\n",
       "     'medium': {'url': 'https://i.ytimg.com/vi/wS8a5as4d-I/mqdefault.jpg',\n",
       "      'width': 320,\n",
       "      'height': 180},\n",
       "     'high': {'url': 'https://i.ytimg.com/vi/wS8a5as4d-I/hqdefault.jpg',\n",
       "      'width': 480,\n",
       "      'height': 360},\n",
       "     'standard': {'url': 'https://i.ytimg.com/vi/wS8a5as4d-I/sddefault.jpg',\n",
       "      'width': 640,\n",
       "      'height': 480},\n",
       "     'maxres': {'url': 'https://i.ytimg.com/vi/wS8a5as4d-I/maxresdefault.jpg',\n",
       "      'width': 1280,\n",
       "      'height': 720}},\n",
       "    'channelTitle': 'h3h3Productions',\n",
       "    'tags': ['h3h3',\n",
       "     'h3h3productions',\n",
       "     'h3 podcast',\n",
       "     'h3',\n",
       "     'ethan klein',\n",
       "     'hila klein',\n",
       "     'ethan and hila'],\n",
       "    'categoryId': '24',\n",
       "    'liveBroadcastContent': 'none',\n",
       "    'defaultLanguage': 'en',\n",
       "    'localized': {'title': 'The Revolutionary A.I. Vape',\n",
       "     'description': 'Today we have the pleasure of testing what may be humanities greatest technological advancement since the invention of the personal computer. We hope you enjoy the video! Thank you for watching! -E&H'},\n",
       "    'defaultAudioLanguage': 'en'},\n",
       "   'statistics': {'viewCount': '3407486',\n",
       "    'likeCount': '287727',\n",
       "    'dislikeCount': '12039',\n",
       "    'favoriteCount': '0',\n",
       "    'commentCount': '27565'}},\n",
       "  {'kind': 'youtube#video',\n",
       "   'etag': '\"XI7nbFXulYBIpL0ayR_gDh3eu1k/5jeRUO0FoVmZhiNWOHh-NPvCMFY\"',\n",
       "   'id': 'leeXT7b31MM',\n",
       "   'snippet': {'publishedAt': '2018-09-16T20:54:24.000Z',\n",
       "    'channelId': 'UCDWIvJwLJsE4LG1Atne2blQ',\n",
       "    'title': 'Update',\n",
       "    'description': 'Wanted to address everything that is going on',\n",
       "    'thumbnails': {'default': {'url': 'https://i.ytimg.com/vi/leeXT7b31MM/default.jpg',\n",
       "      'width': 120,\n",
       "      'height': 90},\n",
       "     'medium': {'url': 'https://i.ytimg.com/vi/leeXT7b31MM/mqdefault.jpg',\n",
       "      'width': 320,\n",
       "      'height': 180},\n",
       "     'high': {'url': 'https://i.ytimg.com/vi/leeXT7b31MM/hqdefault.jpg',\n",
       "      'width': 480,\n",
       "      'height': 360},\n",
       "     'standard': {'url': 'https://i.ytimg.com/vi/leeXT7b31MM/sddefault.jpg',\n",
       "      'width': 640,\n",
       "      'height': 480},\n",
       "     'maxres': {'url': 'https://i.ytimg.com/vi/leeXT7b31MM/maxresdefault.jpg',\n",
       "      'width': 1280,\n",
       "      'height': 720}},\n",
       "    'channelTitle': 'h3h3Productions',\n",
       "    'tags': ['h3h3',\n",
       "     'h3h3productions',\n",
       "     'ethan klein',\n",
       "     'hila klein',\n",
       "     'h3h3 ball rider',\n",
       "     'ball rider',\n",
       "     'h3h3 video game',\n",
       "     'video game',\n",
       "     'h3'],\n",
       "    'categoryId': '24',\n",
       "    'liveBroadcastContent': 'none',\n",
       "    'localized': {'title': 'Update',\n",
       "     'description': 'Wanted to address everything that is going on'},\n",
       "    'defaultAudioLanguage': 'en'},\n",
       "   'statistics': {'viewCount': '3595259',\n",
       "    'likeCount': '252902',\n",
       "    'dislikeCount': '21016',\n",
       "    'favoriteCount': '0',\n",
       "    'commentCount': '37962'}},\n",
       "  {'kind': 'youtube#video',\n",
       "   'etag': '\"XI7nbFXulYBIpL0ayR_gDh3eu1k/0bXLHlM58fkvWd-jpR-0nhv3Yck\"',\n",
       "   'id': 'JN7qaeiRq8U',\n",
       "   'snippet': {'publishedAt': '2018-09-06T18:33:46.000Z',\n",
       "    'channelId': 'UCDWIvJwLJsE4LG1Atne2blQ',\n",
       "    'title': 'H3H3 BALL RIDER',\n",
       "    'description': 'Download H3H3 Ball Rider for free:\\nApple: https://itunes.apple.com/us/app/h3h3-ball-rider/id1283576102?ls=1&mt=8\\nGoogle: https://play.google.com/store/apps/details?id=com.outerminds.h3h3\\n\\nMusic by EchoRobot:\\nhttps://soundcloud.com/aldenchambers\\n\\n&\\n\\nHiP CoLouR\\nhttps://soundcloud.com/hipcolour',\n",
       "    'thumbnails': {'default': {'url': 'https://i.ytimg.com/vi/JN7qaeiRq8U/default.jpg',\n",
       "      'width': 120,\n",
       "      'height': 90},\n",
       "     'medium': {'url': 'https://i.ytimg.com/vi/JN7qaeiRq8U/mqdefault.jpg',\n",
       "      'width': 320,\n",
       "      'height': 180},\n",
       "     'high': {'url': 'https://i.ytimg.com/vi/JN7qaeiRq8U/hqdefault.jpg',\n",
       "      'width': 480,\n",
       "      'height': 360},\n",
       "     'standard': {'url': 'https://i.ytimg.com/vi/JN7qaeiRq8U/sddefault.jpg',\n",
       "      'width': 640,\n",
       "      'height': 480},\n",
       "     'maxres': {'url': 'https://i.ytimg.com/vi/JN7qaeiRq8U/maxresdefault.jpg',\n",
       "      'width': 1280,\n",
       "      'height': 720}},\n",
       "    'channelTitle': 'h3h3Productions',\n",
       "    'tags': ['h3h3 ball rider',\n",
       "     'ball rider',\n",
       "     'h3 ball rider',\n",
       "     'mobile',\n",
       "     'mobile game',\n",
       "     'h3h3productions mobile game',\n",
       "     'h3h3productions game',\n",
       "     'h3h3 game',\n",
       "     'h3 game',\n",
       "     'outerminds'],\n",
       "    'categoryId': '24',\n",
       "    'liveBroadcastContent': 'none',\n",
       "    'localized': {'title': 'H3H3 BALL RIDER',\n",
       "     'description': 'Download H3H3 Ball Rider for free:\\nApple: https://itunes.apple.com/us/app/h3h3-ball-rider/id1283576102?ls=1&mt=8\\nGoogle: https://play.google.com/store/apps/details?id=com.outerminds.h3h3\\n\\nMusic by EchoRobot:\\nhttps://soundcloud.com/aldenchambers\\n\\n&\\n\\nHiP CoLouR\\nhttps://soundcloud.com/hipcolour'},\n",
       "    'defaultAudioLanguage': 'en'},\n",
       "   'statistics': {'viewCount': '1547571',\n",
       "    'likeCount': '82776',\n",
       "    'dislikeCount': '46157',\n",
       "    'favoriteCount': '0',\n",
       "    'commentCount': '13889'}},\n",
       "  {'kind': 'youtube#video',\n",
       "   'etag': '\"XI7nbFXulYBIpL0ayR_gDh3eu1k/iyqsAlCAn2fZVvJ8ZCL1hYqW4ek\"',\n",
       "   'id': 'JfsxLhPn-oA',\n",
       "   'snippet': {'publishedAt': '2018-06-08T22:30:20.000Z',\n",
       "    'channelId': 'UCDWIvJwLJsE4LG1Atne2blQ',\n",
       "    'title': \"Shootin' With iDubbbz\",\n",
       "    'description': 'Thanks 2 my good bud idubbbz for teaching me the ropes\\n\\niDubbbz: https://www.youtube.com/user/iDubbbzTV',\n",
       "    'thumbnails': {'default': {'url': 'https://i.ytimg.com/vi/JfsxLhPn-oA/default.jpg',\n",
       "      'width': 120,\n",
       "      'height': 90},\n",
       "     'medium': {'url': 'https://i.ytimg.com/vi/JfsxLhPn-oA/mqdefault.jpg',\n",
       "      'width': 320,\n",
       "      'height': 180},\n",
       "     'high': {'url': 'https://i.ytimg.com/vi/JfsxLhPn-oA/hqdefault.jpg',\n",
       "      'width': 480,\n",
       "      'height': 360},\n",
       "     'standard': {'url': 'https://i.ytimg.com/vi/JfsxLhPn-oA/sddefault.jpg',\n",
       "      'width': 640,\n",
       "      'height': 480},\n",
       "     'maxres': {'url': 'https://i.ytimg.com/vi/JfsxLhPn-oA/maxresdefault.jpg',\n",
       "      'width': 1280,\n",
       "      'height': 720}},\n",
       "    'channelTitle': 'h3h3Productions',\n",
       "    'tags': ['idubbbz', 'idubbbztv', 'h3h3', 'h3h3productions'],\n",
       "    'categoryId': '24',\n",
       "    'liveBroadcastContent': 'none',\n",
       "    'localized': {'title': \"Shootin' With iDubbbz\",\n",
       "     'description': 'Thanks 2 my good bud idubbbz for teaching me the ropes\\n\\niDubbbz: https://www.youtube.com/user/iDubbbzTV'},\n",
       "    'defaultAudioLanguage': 'en'},\n",
       "   'statistics': {'viewCount': '4636060',\n",
       "    'likeCount': '255729',\n",
       "    'dislikeCount': '9347',\n",
       "    'favoriteCount': '0',\n",
       "    'commentCount': '29482'}}]}"
      ]
     },
     "execution_count": 27,
     "metadata": {},
     "output_type": "execute_result"
    }
   ],
   "source": [
    "videos = youtube.videos().list(\n",
    "    part='statistics,snippet',\n",
    "    id=vidIDs\n",
    ").execute()\n",
    "videos"
   ]
  }
 ],
 "metadata": {
  "kernelspec": {
   "display_name": "Python 3",
   "language": "python",
   "name": "python3"
  },
  "language_info": {
   "codemirror_mode": {
    "name": "ipython",
    "version": 3
   },
   "file_extension": ".py",
   "mimetype": "text/x-python",
   "name": "python",
   "nbconvert_exporter": "python",
   "pygments_lexer": "ipython3",
   "version": "3.7.1"
  }
 },
 "nbformat": 4,
 "nbformat_minor": 2
}
